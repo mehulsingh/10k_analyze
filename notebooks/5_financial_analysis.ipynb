{
 "cells": [
  {
   "cell_type": "markdown",
   "metadata": {},
   "source": [
    "# 10-K Filings: Financial Analysis\n",
    "\n",
    "This notebook demonstrates how to extract and analyze financial metrics from 10-K filings."
   ]
  },
  {
   "cell_type": "code",
   "execution_count": null,
   "metadata": {},
   "outputs": [],
   "source": [
    "# Import libraries\n",
    "import sys\n",
    "import os\n",
    "import pandas as pd\n",
    "import numpy as np\n",
    "import matplotlib.pyplot as plt\n",
    "import seaborn as sns\n",
    "from tqdm.notebook import tqdm\n",
    "import re\n",
    "from bs4 import BeautifulSoup\n",
    "\n",
    "# Add project root to path for importing local modules\n",
    "sys.path.append('..')\n",
    "\n",
    "# Import project modules\n",
    "from src.analysis.financial_analysis import FinancialAnalyzer\n",
    "from src.visualization.basic_plots import plot_time_series, plot_comparative_metrics, plot_correlation_heatmap\n",
    "\n",
    "# Set plot style\n",
    "plt.style.use('fivethirtyeight')\n",
    "sns.set_palette('Set2')\n",
    "\n",
    "# Set pandas display options\n",
    "pd.set_option('display.max_columns', 50)\n",
    "pd.set_option('display.max_rows', 100)"
   ]
  },
  {
   "cell_type": "markdown",
   "metadata": {},
   "source": [
    "## Load the Processed Filings\n",
    "\n",
    "Let's load the 10-K filings that we preprocessed in the previous notebooks."
   ]
  },
  {
   "cell_type": "code",
   "execution_count": null,
   "metadata": {},
   "outputs": [],
   "source": [
    "# Load the processed filings\n",
    "processed_file = '../data/processed/processed_filings.pkl'\n",
    "\n",
    "if os.path.exists(processed_file):\n",
    "    processed_df = pd.read_pickle(processed_file)\n",
    "    print(f\"Loaded {len(processed_df)} processed filings from {processed_file}\")\n",
    "else:\n",
    "    print(f\"Error: File not found: {processed_file}\")\n",
    "    print(\"Please run the '2_data_preprocessing.ipynb' notebook first to preprocess the filings.\")"
   ]
  },
  {
   "cell_type": "code",
   "execution_count": null,
   "metadata": {},
   "outputs": [],
   "source": [
    "# Check basic information\n",
    "print(f\"Filings for {processed_df['ticker'].nunique()} companies over {processed_df['filing_year'].nunique()} years\")\n",
    "print(f\"Companies: {', '.join(sorted(processed_df['ticker'].unique()))}\")\n",
    "print(f\"Years: {', '.join(map(str, sorted(processed_df['filing_year'].unique())))}\")"
   ]
  },
  {
   "cell_type": "markdown",
   "metadata": {},
   "source": [
    "## Initialize the Financial Analyzer\n",
    "\n",
    "Now, we'll create an instance of the `FinancialAnalyzer` class that we'll use to extract and analyze financial metrics from the filings."
   ]
  },
  {
   "cell_type": "code",
   "execution_count": null,
   "metadata": {},
   "outputs": [],
   "source": [
    "# Initialize the financial analyzer\n",
    "analyzer = FinancialAnalyzer()\n",
    "\n",
    "# Display the financial metrics that will be extracted\n",
    "print(\"Financial metrics to extract:\")\n",
    "for metric, patterns in analyzer.metrics.items():\n",
    "    print(f\"- {metric}: {patterns[0]}\")"
   ]
  },
  {
   "cell_type": "markdown",
   "metadata": {},
   "source": [
    "## Extract Financial Tables\n",
    "\n",
    "Let's extract tables from the filings to see what financial data is available."
   ]
  },
  {
   "cell_type": "code",
   "execution_count": null,
   "metadata": {},
   "outputs": [],
   "source": [
    "# Select a sample filing to extract tables from\n",
    "sample_filing = processed_df.iloc[0]\n",
    "print(f\"Sample filing: {sample_filing['ticker']} from {sample_filing['filing_year']}\")\n",
    "\n",
    "# Extract tables from the sample filing\n",
    "tables = analyzer.extract_tables_from_html(sample_filing['filing_html'])\n",
    "print(f\"\\nExtracted {len(tables)} tables from the filing.\")\n",
    "\n",
    "# Filter to keep only the financial tables\n",
    "financial_tables = analyzer.extract_financial_tables(sample_filing['filing_html'])\n",
    "print(f\"Identified {len(financial_tables)} financial tables.\")"
   ]
  },
  {
   "cell_type": "code",
   "execution_count": null,
   "metadata": {},
   "outputs": [],
   "source": [
    "# Display a sample of the financial tables\n",
    "if financial_tables:\n",
    "    for i, table in enumerate(financial_tables[:3]):  # Show first 3 tables\n",
    "        print(f\"\\nTable {i+1} ({table['rows']} rows x {table['cols']} columns):\")\n",
    "        display(table['dataframe'].head(10))"
   ]
  },
  {
   "cell_type": "markdown",
   "metadata": {},
   "source": [
    "## Extract Financial Metrics\n",
    "\n",
    "Now let's extract key financial metrics from all the filings."
   ]
  },
  {
   "cell_type": "code",
   "execution_count": null,
   "metadata": {},
   "outputs": [],
   "source": [
    "# Extract metrics for a sample filing first\n",
    "sample_metrics = analyzer.extract_metrics_from_filing(sample_filing['filing_html'])\n",
    "print(\"Financial metrics extracted from sample filing:\")\n",
    "for metric, value in sample_metrics.items():\n",
    "    print(f\"- {metric}: {value:,.2f}\" if value is not None else f\"- {metric}: None\")"
   ]
  },
  {
   "cell_type": "code",
   "execution_count": null,
   "metadata": {},
   "outputs": [],
   "source": [
    "# Calculate derived metrics from the sample\n",
    "derived_metrics = analyzer.calculate_derived_metrics(sample_metrics)\n",
    "print(\"\\nDerived metrics:\")\n",
    "for metric, value in derived_metrics.items():\n",
    "    if metric.endswith('_margin'):\n",
    "        print(f\"- {metric}: {value:.2%}\" if value is not None else f\"- {metric}: None\")\n",
    "    else:\n",
    "        print(f\"- {metric}: {value:.4f}\" if value is not None else f\"- {metric}: None\")"
   ]
  },
  {
   "cell_type": "code",
   "execution_count": null,
   "metadata": {},
   "outputs": [],
   "source": [
    "# Extract financial metrics for all filings\n",
    "print(\"Extracting financial metrics for all filings... This may take several minutes.\")\n",
    "financial_metrics_df = analyzer.analyze_filings(processed_df)\n",
    "print(f\"Extracted financial metrics for {len(financial_metrics_df)} filings.\")"
   ]
  },
  {
   "cell_type": "code",
   "execution_count": null,
   "metadata": {},
   "outputs": [],
   "source": [
    "# Display the financial metrics DataFrame\n",
    "# Exclude the HTML content column for better display\n",
    "display_cols = [col for col in financial_metrics_df.columns if col != 'filing_html']\n",
    "financial_metrics_df[display_cols].head()"
   ]
  },
  {
   "cell_type": "markdown",
   "metadata": {},
   "source": [
    "## Analyze Financial Metrics\n",
    "\n",
    "Let's analyze the financial metrics to understand the financial performance of the companies."
   ]
  },
  {
   "cell_type": "code",
   "execution_count": null,
   "metadata": {},
   "outputs": [],
   "source": [
    "# Calculate summary statistics for each metric\n",
    "metrics_cols = ['revenue', 'net_income', 'operating_income', 'total_assets', 'total_liabilities']\n",
    "metrics_cols = [col for col in metrics_cols if col in financial_metrics_df.columns]\n",
    "\n",
    "if metrics_cols:\n",
    "    # Calculate statistics\n",
    "    metrics_stats = financial_metrics_df[metrics_cols].describe()\n",
    "    \n",
    "    # Display statistics\n",
    "    print(\"Summary statistics for financial metrics:\")\n",
    "    display(metrics_stats)"
   ]
  },
  {
   "cell_type": "code",
   "execution_count": null,
   "metadata": {},
   "outputs": [],
   "source": [
    "# Analyze metrics by company\n",
    "if 'ticker' in financial_metrics_df.columns:\n",
    "    # Group by company\n",
    "    company_metrics = financial_metrics_df.groupby('ticker')[metrics_cols].mean()\n",
    "    \n",
    "    # Display metrics by company\n",
    "    print(\"Average financial metrics by company:\")\n",
    "    display(company_metrics)"
   ]
  },
  {
   "cell_type": "code",
   "execution_count": null,
   "metadata": {},
   "outputs": [],
   "source": [
    "# Format numbers for better display\n",
    "def format_financial(x):\n",
    "    if pd.isna(x):\n",
    "        return 'N/A'\n",
    "    elif abs(x) >= 1e9:\n",
    "        return f'${x/1e9:.2f}B'\n",
    "    elif abs(x) >= 1e6:\n",
    "        return f'${x/1e6:.2f}M'\n",
    "    else:\n",
    "        return f'${x:.2f}'\n",
    "\n",
    "# Format ratios\n",
    "def format_ratio(x):\n",
    "    if pd.isna(x):\n",
    "        return 'N/A'\n",
    "    else:\n",
    "        return f'{x:.2%}'\n",
    "\n",
    "# Format the company metrics\n",
    "if 'company_metrics' in locals():\n",
    "    formatted_metrics = company_metrics.copy()\n",
    "    \n",
    "    # Apply formatting\n",
    "    for col in formatted_metrics.columns:\n",
    "        if col in ['profit_margin', 'roa', 'debt_to_assets', 'rd_to_revenue']:\n",
    "            formatted_metrics[col] = formatted_metrics[col].apply(format_ratio)\n",
    "        else:\n",
    "            formatted_metrics[col] = formatted_metrics[col].apply(format_financial)\n",
    "    \n",
    "    # Display formatted metrics\n",
    "    print(\"\\nFormatted financial metrics by company:\")\n",
    "    display(formatted_metrics)"
   ]
  },
  {
   "cell_type": "markdown",
   "metadata": {},
   "source": [
    "## Visualize Financial Metrics\n",
    "\n",
    "Let's create visualizations to better understand the financial metrics."
   ]
  },
  {
   "cell_type": "code",
   "execution_count": null,
   "metadata": {},
   "outputs": [],
   "source": [
    "# Visualize revenue by company\n",
    "if 'revenue' in financial_metrics_df.columns:\n",
    "    # Create a bar chart\n",
    "    plt.figure(figsize=(12, 6))\n",
    "    sns.barplot(x='ticker', y='revenue', data=financial_metrics_df, estimator=np.mean, ci=None)\n",
    "    plt.title('Average Revenue by Company', fontsize=16, fontweight='bold')\n",
    "    plt.xlabel('Company', fontsize=14)\n",
    "    plt.ylabel('Revenue', fontsize=14)\n",
    "    plt.grid(axis='y', linestyle='--', alpha=0.7)\n",
    "    plt.tight_layout()\n",
    "    plt.show()"
   ]
  },
  {
   "cell_type": "code",
   "execution_count": null,
   "metadata": {},
   "outputs": [],
   "source": [
    "# Visualize revenue over time\n",
    "if 'revenue' in financial_metrics_df.columns and 'filing_date' in financial_metrics_df.columns:\n",
    "    # Ensure filing_date is datetime\n",
    "    financial_metrics_df['filing_date'] = pd.to_datetime(financial_metrics_df['filing_date'])\n",
    "    \n",
    "    # Create time series plot\n",
    "    fig, ax = plot_time_series(\n",
    "        financial_metrics_df,\n",
    "        date_column='filing_date',\n",
    "        value_column='revenue',\n",
    "        company_column='ticker',\n",
    "        title='Revenue Over Time by Company'\n",
    "    )\n",
    "    plt.show()"
   ]
  },
  {
   "cell_type": "code",
   "execution_count": null,
   "metadata": {},
   "outputs": [],
   "source": [
    "# Compare multiple financial metrics across companies\n",
    "metrics_to_compare = ['revenue', 'net_income', 'operating_income']\n",
    "metrics_to_compare = [m for m in metrics_to_compare if m in financial_metrics_df.columns]\n",
    "\n",
    "if metrics_to_compare and 'ticker' in financial_metrics_df.columns:\n",
    "    fig, ax = plot_comparative_metrics(\n",
    "        financial_metrics_df,\n",
    "        metrics=metrics_to_compare,\n",
    "        company_column='ticker',\n",
    "        title='Financial Metrics Comparison by Company'\n",
    "    )\n",
    "    plt.show()"
   ]
  },
  {
   "cell_type": "code",
   "execution_count": null,
   "metadata": {},
   "outputs": [],
   "source": [
    "# Create correlation heatmap of financial metrics\n",
    "# Select numerical columns (excluding ID columns)\n",
    "num_cols = financial_metrics_df.select_dtypes(include=[np.number]).columns.tolist()\n",
    "num_cols = [col for col in num_cols if col not in ['filing_year']]\n",
    "\n",
    "if num_cols:\n",
    "    fig, ax = plot_correlation_heatmap(\n",
    "        financial_metrics_df,\n",
    "        columns=num_cols,\n",
    "        title='Correlation Heatmap of Financial Metrics'\n",
    "    )\n",
    "    plt.show()"
   ]
  },
  {
   "cell_type": "markdown",
   "metadata": {},
   "source": [
    "## Comparative Financial Analysis\n",
    "\n",
    "Let's compare financial metrics across companies and years."
   ]
  },
  {
   "cell_type": "code",
   "execution_count": null,
   "metadata": {},
   "outputs": [],
   "source": [
    "# Perform comparative financial analysis\n",
    "financial_comparison = analyzer.compare_financials(financial_metrics_df)\n",
    "\n",
    "# Display company comparison\n",
    "if 'by_company' in financial_comparison:\n",
    "    print(\"Financial metrics comparison by company:\")\n",
    "    display(financial_comparison['by_company'])"
   ]
  },
  {
   "cell_type": "code",
   "execution_count": null,
   "metadata": {},
   "outputs": [],
   "source": [
    "# Display year comparison\n",
    "if 'by_year' in financial_comparison:\n",
    "    print(\"Financial metrics comparison by year:\")\n",
    "    display(financial_comparison['by_year'])"
   ]
  },
  {
   "cell_type": "code",
   "execution_count": null,
   "metadata": {},
   "outputs": [],
   "source": [
    "# Display growth rates\n",
    "if 'growth_rates' in financial_comparison and not financial_comparison['growth_rates'].empty:\n",
    "    print(\"Year-over-year growth rates:\")\n",
    "    display(financial_comparison['growth_rates'])"
   ]
  },
  {
   "cell_type": "code",
   "execution_count": null,
   "metadata": {},
   "outputs": [],
   "source": [
    "# Visualize growth rates\n",
    "if 'growth_rates' in financial_comparison and not financial_comparison['growth_rates'].empty:\n",
    "    # Select growth rate columns\n",
    "    growth_cols = [col for col in financial_comparison['growth_rates'].columns if col.endswith('_growth')]\n",
    "    \n",
    "    if growth_cols:\n",
    "        # Create a figure for each growth metric\n",
    "        for col in growth_cols:\n",
    "            # Get metric name from column name\n",
    "            metric_name = col.replace('_growth', '')\n",
    "            \n",
    "            # Create a bar chart\n",
    "            plt.figure(figsize=(12, 6))\n",
    "            sns.barplot(x='ticker', y=col, data=financial_comparison['growth_rates'])\n",
    "            plt.title(f'{metric_name.title()} Growth Rate by Company', fontsize=16, fontweight='bold')\n",
    "            plt.xlabel('Company', fontsize=14)\n",
    "            plt.ylabel('Growth Rate (%)', fontsize=14)\n",
    "            \n",
    "            # Format y-axis as percentage\n",
    "            from matplotlib.ticker import FuncFormatter\n",
    "            plt.gca().yaxis.set_major_formatter(FuncFormatter(lambda x, _: f'{x:.0%}'))\n",
    "            \n",
    "            # Add a horizontal line at y=0\n",
    "            plt.axhline(y=0, color='red', linestyle='--', alpha=0.7)\n",
    "            \n",
    "            plt.grid(axis='y', linestyle='--', alpha=0.7)\n",
    "            plt.tight_layout()\n",
    "            plt.show()"
   ]
  },
  {
   "cell_type": "markdown",
   "metadata": {},
   "source": [
    "## Financial Ratios Analysis\n",
    "\n",
    "Let's analyze financial ratios to better understand the financial health of the companies."
   ]
  },
  {
   "cell_type": "code",
   "execution_count": null,
   "metadata": {},
   "outputs": [],
   "source": [
    "# Select financial ratio columns\n",
    "ratio_cols = ['profit_margin', 'roa', 'debt_to_assets', 'rd_to_revenue']\n",
    "available_ratios = [col for col in ratio_cols if col in financial_metrics_df.columns]\n",
    "\n",
    "if available_ratios:\n",
    "    # Create a figure for each ratio\n",
    "    for ratio in available_ratios:\n",
    "        # Create a box plot\n",
    "        plt.figure(figsize=(12, 6))\n",
    "        sns.boxplot(x='ticker', y=ratio, data=financial_metrics_df)\n",
    "        plt.title(f'{ratio.replace(\"_\", \" \").title()} by Company', fontsize=16, fontweight='bold')\n",
    "        plt.xlabel('Company', fontsize=14)\n",
    "        plt.ylabel(ratio.replace(\"_\", \" \").title(), fontsize=14)\n",
    "        \n",
    "        # Format y-axis as percentage for ratios\n",
    "        from matplotlib.ticker import FuncFormatter\n",
    "        plt.gca().yaxis.set_major_formatter(FuncFormatter(lambda x, _: f'{x:.0%}'))\n",
    "        \n",
    "        plt.grid(axis='y', linestyle='--', alpha=0.7)\n",
    "        plt.tight_layout()\n",
    "        plt.show()"
   ]
  },
  {
   "cell_type": "code",
   "execution_count": null,
   "metadata": {},
   "outputs": [],
   "source": [
    "# Create a dashboard-like view of key financial metrics\n",
    "if 'ticker' in financial_metrics_df.columns and available_ratios:\n",
    "    # Calculate average metrics by company\n",
    "    metrics_by_company = financial_metrics_df.groupby('ticker')[\n",
    "        available_ratios + [m for m in metrics_to_compare if m in financial_metrics_df.columns]\n",
    "    ].mean().reset_index()\n",
    "    \n",
    "    # Create a multi-panel figure\n",
    "    fig, axes = plt.subplots(2, 2, figsize=(16, 12))\n",
    "    axes = axes.flatten()\n",
    "    \n",
    "    # Plot each metric\n",
    "    for i, metric in enumerate(available_ratios[:4]):  # Limit to 4 metrics\n",
    "        ax = axes[i]\n",
    "        \n",
    "        # Sort by metric value\n",
    "        sorted_df = metrics_by_company.sort_values(metric)\n",
    "        \n",
    "        # Create a horizontal bar chart\n",
    "        ax.barh(sorted_df['ticker'], sorted_df[metric])\n",
    "        \n",
    "        # Set title and labels\n",
    "        ax.set_title(metric.replace(\"_\", \" \").title(), fontsize=14, fontweight='bold')\n",
    "        ax.set_xlabel(metric.replace(\"_\", \" \").title(), fontsize=12)\n",
    "        ax.set_ylabel('Company', fontsize=12)\n",
    "        \n",
    "        # Format x-axis as percentage for ratios\n",
    "        ax.xaxis.set_major_formatter(FuncFormatter(lambda x, _: f'{x:.0%}'))\n",
    "        \n",
    "        # Add grid\n",
    "        ax.grid(axis='x', linestyle='--', alpha=0.7)\n",
    "    \n",
    "    plt.suptitle('Key Financial Ratios by Company', fontsize=20, fontweight='bold')\n",
    "    plt.tight_layout(rect=[0, 0, 1, 0.95])\n",
    "    plt.show()"
   ]
  },
  {
   "cell_type": "markdown",
   "metadata": {},
   "source": [
    "## Save the Financial Analysis Results\n",
    "\n",
    "Let's save the results of our financial analysis for use in later notebooks."
   ]
  },
  {
   "cell_type": "code",
   "execution_count": null,
   "metadata": {},
   "outputs": [],
   "source": [
    "# Create the results directory if it doesn't exist\n",
    "if not os.path.exists('../data/results'):\n",
    "    os.makedirs('../data/results')\n",
    "\n",
    "# Save financial metrics\n",
    "financial_metrics_file = '../data/results/financial_analysis.pkl'\n",
    "financial_metrics_df.to_pickle(financial_metrics_file)\n",
    "print(f\"Saved financial analysis results to {financial_metrics_file}\")\n",
    "\n",
    "# Save financial comparison results\n",
    "comparison_file = '../data/results/financial_comparison.pkl'\n",
    "pd.to_pickle(financial_comparison, comparison_file)\n",
    "print(f\"Saved financial comparison results to {comparison_file}\")"
   ]
  },
  {
   "cell_type": "markdown",
   "metadata": {},
   "source": [
    "## Next Steps\n",
    "\n",
    "In the next notebook (`6_visualizations.ipynb`), we'll create comprehensive visualizations and dashboards that combine the results of our text analysis, sentiment analysis, and financial analysis, including:\n",
    "1. Interactive time series visualizations\n",
    "2. Comparative dashboards across companies\n",
    "3. Correlation analysis between financial metrics and sentiment\n",
    "4. Trend analysis and forecasting"
   ]
  }
 ],
 "metadata": {
  "kernelspec": {
   "display_name": "Python 3",
   "language": "python",
   "name": "python3"
  },
  "language_info": {
   "codemirror_mode": {
    "name": "ipython",
    "version": 3
   },
   "file_extension": ".py",
   "mimetype": "text/x-python",
   "name": "python",
   "nbconvert_exporter": "python",
   "pygments_lexer": "ipython3",
   "version": "3.9.0"
  }
 },
 "nbformat": 4,
 "nbformat_minor": 4
}