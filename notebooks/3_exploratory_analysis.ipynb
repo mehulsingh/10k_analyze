{
 "cells": [
  {
   "cell_type": "markdown",
   "metadata": {},
   "source": [
    "# 10-K Filings: Exploratory Analysis\n",
    "\n",
    "This notebook explores the 10-K filings data that has been preprocessed in the previous steps."
   ]
  },
  {
   "cell_type": "code",
   "execution_count": null,
   "metadata": {},
   "outputs": [],
   "source": [
    "# Import libraries\n",
    "import sys\n",
    "import os\n",
    "import pandas as pd\n",
    "import numpy as np\n",
    "import matplotlib.pyplot as plt\n",
    "import seaborn as sns\n",
    "\n",
    "# Add project root to path for importing local modules\n",
    "sys.path.append('..')\n",
    "\n",
    "# Import project modules\n",
    "from src.data.data_loader import SECDataLoader\n",
    "from src.data.data_preprocessor import FilingPreprocessor\n",
    "from src.visualization.basic_plots import (\n",
    "    plot_time_series, plot_metric_distribution, create_wordcloud,\n",
    "    plot_sentiment_analysis, plot_comparative_metrics\n",
    ")\n",
    "\n",
    "# Set plot style\n",
    "plt.style.use('fivethirtyeight')\n",
    "sns.set_palette('Set2')\n",
    "\n",
    "# Display settings\n",
    "pd.set_option('display.max_columns', 50)\n",
    "pd.set_option('display.max_rows', 100)"
   ]
  },
  {
   "cell_type": "markdown",
   "metadata": {},
   "source": [
    "## Load the preprocessed data\n",
    "\n",
    "Load the preprocessed 10-K filings that were created in the previous notebook."
   ]
  },
  {
   "cell_type": "code",
   "execution_count": null,
   "metadata": {},
   "outputs": [],
   "source": [
    "# Load the preprocessed filings\n",
    "processed_filings = pd.read_pickle('../data/processed/processed_filings.pkl')\n",
    "\n",
    "# Display basic information\n",
    "print(f\"Number of filings: {len(processed_filings)}\")\n",
    "print(f\"Companies: {processed_filings['ticker'].nunique()}\")\n",
    "print(f\"Years: {sorted(processed_filings['filing_year'].unique())}\")\n",
    "\n",
    "# Display the first few rows\n",
    "processed_filings.head()"
   ]
  },
  {
   "cell_type": "markdown",
   "metadata": {},
   "source": [
    "## Overview of Available Companies and Years\n",
    "\n",
    "Let's check which companies and years are available in our dataset."
   ]
  },
  {
   "cell_type": "code",
   "execution_count": null,
   "metadata": {},
   "outputs": [],
   "source": [
    "# Create a pivot table of companies and years\n",
    "company_year_pivot = pd.pivot_table(\n",
    "    processed_filings,\n",
    "    values='accession_number',\n",
    "    index='ticker',\n",
    "    columns='filing_year',\n",
    "    aggfunc='count',\n",
    "    fill_value=0\n",
    ")\n",
    "\n",
    "# Display the pivot table\n",
    "company_year_pivot"
   ]
  },
  {
   "cell_type": "markdown",
   "metadata": {},
   "source": [
    "## Explore Filing Metadata\n",
    "\n",
    "Let's look at some metadata about the filings, such as filing dates, fiscal year ends, etc."
   ]
  },
  {
   "cell_type": "code",
   "execution_count": null,
   "metadata": {},
   "outputs": [],
   "source": [
    "# Display filing metadata\n",
    "metadata_cols = ['ticker', 'company_name', 'filing_date', 'filing_year', 'fiscal_year_end']\n",
    "processed_filings[metadata_cols].sort_values(['ticker', 'filing_date']).head(10)"
   ]
  },
  {
   "cell_type": "code",
   "execution_count": null,
   "metadata": {},
   "outputs": [],
   "source": [
    "# Plot filing dates by company\n",
    "fig, ax = plt.subplots(figsize=(12, 6))\n",
    "\n",
    "# Get unique companies\n",
    "companies = processed_filings['ticker'].unique()\n",
    "\n",
    "# Plot a line for each company\n",
    "for i, company in enumerate(companies):\n",
    "    company_filings = processed_filings[processed_filings['ticker'] == company]\n",
    "    ax.scatter(\n",
    "        company_filings['filing_date'],\n",
    "        [i] * len(company_filings),\n",
    "        label=company,\n",
    "        s=80\n",
    "    )\n",
    "\n",
    "# Set y-ticks to company names\n",
    "ax.set_yticks(range(len(companies)))\n",
    "ax.set_yticklabels(companies)\n",
    "\n",
    "# Set labels and title\n",
    "ax.set_xlabel('Filing Date', fontsize=14)\n",
    "ax.set_title('10-K Filing Dates by Company', fontsize=16, fontweight='bold')\n",
    "\n",
    "# Format x-axis with years\n",
    "import matplotlib.dates as mdates\n",
    "ax.xaxis.set_major_locator(mdates.YearLocator())\n",
    "ax.xaxis.set_major_formatter(mdates.DateFormatter('%Y'))\n",
    "\n",
    "# Add grid for better readability\n",
    "ax.grid(True, axis='x', linestyle='--', alpha=0.7)\n",
    "\n",
    "plt.tight_layout()\n",
    "plt.show()"
   ]
  },
  {
   "cell_type": "markdown",
   "metadata": {},
   "source": [
    "## Explore Filing Sections\n",
    "\n",
    "Let's look at the sections extracted from the 10-K filings."
   ]
  },
  {
   "cell_type": "code",
   "execution_count": null,
   "metadata": {},
   "outputs": [],
   "source": [
    "# Get the section columns\n",
    "section_cols = [col for col in processed_filings.columns if col.startswith('section_')]\n",
    "print(f\"Available sections: {[col.replace('section_', '') for col in section_cols]}\")"
   ]
  },
  {
   "cell_type": "code",
   "execution_count": null,
   "metadata": {},
   "outputs": [],
   "source": [
    "# Calculate section lengths\n",
    "for section in section_cols:\n",
    "    processed_filings[f\"{section}_length\"] = processed_filings[section].str.len()\n",
    "\n",
    "# Get the length columns\n",
    "length_cols = [col for col in processed_filings.columns if col.endswith('_length')]\n",
    "\n",
    "# Calculate mean section lengths by company\n",
    "section_lengths = processed_filings.groupby('ticker')[length_cols].mean()\n",
    "\n",
    "# Plot section lengths by company\n",
    "section_lengths_melted = section_lengths.reset_index().melt(\n",
    "    id_vars='ticker',\n",
    "    value_vars=length_cols,\n",
    "    var_name='section',\n",
    "    value_name='length'\n",
    ")\n",
    "\n",
    "# Clean up section names for plotting\n",
    "section_lengths_melted['section'] = section_lengths_melted['section'].str.replace('section_', '').str.replace('_length', '')\n",
    "\n",
    "# Plot\n",
    "plt.figure(figsize=(14, 8))\n",
    "sns.barplot(x='section', y='length', hue='ticker', data=section_lengths_melted)\n",
    "plt.title('Average Section Lengths by Company', fontsize=16, fontweight='bold')\n",
    "plt.xlabel('Section', fontsize=14)\n",
    "plt.ylabel('Average Length (characters)', fontsize=14)\n",
    "plt.xticks(rotation=45, ha='right')\n",
    "plt.legend(title='Company')\n",
    "plt.grid(axis='y', linestyle='--', alpha=0.7)\n",
    "plt.tight_layout()\n",
    "plt.show()"
   ]
  },
  {
   "cell_type": "markdown",
   "metadata": {},
   "source": [
    "## Text Analysis on Key Sections\n",
    "\n",
    "Let's analyze key sections such as Risk Factors (Item 1A) and MD&A (Item 7)."
   ]
  },
  {
   "cell_type": "code",
   "execution_count": null,
   "metadata": {},
   "outputs": [],
   "source": [
    "# Select a company for demonstration\n",
    "target_company = processed_filings['ticker'].unique()[0]  # First company\n",
    "target_year = processed_filings['filing_year'].max()  # Most recent year\n",
    "\n",
    "# Get the filing for the target company and year\n",
    "target_filing = processed_filings[\n",
    "    (processed_filings['ticker'] == target_company) &\n",
    "    (processed_filings['filing_year'] == target_year)\n",
    "].iloc[0]\n",
    "\n",
    "print(f\"Analyzing filing for {target_company} from {target_year}\")"
   ]
  },
  {
   "cell_type": "code",
   "execution_count": null,
   "metadata": {},
   "outputs": [],
   "source": [
    "# Analyze Risk Factors section (Item 1A)\n",
    "risk_factors_text = target_filing['section_item_1a']\n",
    "\n",
    "# Create word cloud for Risk Factors\n",
    "if len(risk_factors_text) > 0:\n",
    "    fig, ax = create_wordcloud(\n",
    "        risk_factors_text,\n",
    "        title=f\"Risk Factors Word Cloud - {target_company} ({target_year})\",\n",
    "        colormap='Reds'\n",
    "    )\n",
    "    plt.show()\n",
    "else:\n",
    "    print(\"No Risk Factors section found for this filing.\")"
   ]
  },
  {
   "cell_type": "code",
   "execution_count": null,
   "metadata": {},
   "outputs": [],
   "source": [
    "# Analyze MD&A section (Item 7)\n",
    "mda_text = target_filing['section_item_7']\n",
    "\n",
    "# Create word cloud for MD&A\n",
    "if len(mda_text) > 0:\n",
    "    fig, ax = create_wordcloud(\n",
    "        mda_text,\n",
    "        title=f\"MD&A Word Cloud - {target_company} ({target_year})\",\n",
    "        colormap='Blues'\n",
    "    )\n",
    "    plt.show()\n",
    "else:\n",
    "    print(\"No MD&A section found for this filing.\")"
   ]
  },
  {
   "cell_type": "markdown",
   "metadata": {},
   "source": [
    "## Comparative Analysis Across Companies\n",
    "\n",
    "Let's compare key aspects of the filings across all companies."
   ]
  },
  {
   "cell_type": "code",
   "execution_count": null,
   "metadata": {},
   "outputs": [],
   "source": [
    "# Create metrics for comparison\n",
    "company_metrics = []\n",
    "\n",
    "for ticker, company_filings in processed_filings.groupby('ticker'):\n",
    "    # Get the most recent filing\n",
    "    most_recent = company_filings.sort_values('filing_date').iloc[-1]\n",
    "    \n",
    "    # Calculate metrics\n",
    "    risk_length = len(most_recent.get('section_item_1a', '')) if 'section_item_1a' in most_recent else 0\n",
    "    mda_length = len(most_recent.get('section_item_7', '')) if 'section_item_7' in most_recent else 0\n",
    "    fin_length = len(most_recent.get('section_item_8', '')) if 'section_item_8' in most_recent else 0\n",
    "    \n",
    "    # Count risk-related words in Item 1A\n",
    "    risk_terms = ['risk', 'uncertainty', 'adverse', 'negative', 'decline', 'decrease', 'loss']\n",
    "    risk_count = 0\n",
    "    if 'section_item_1a' in most_recent and isinstance(most_recent['section_item_1a'], str):\n",
    "        risk_text = most_recent['section_item_1a'].lower()\n",
    "        for term in risk_terms:\n",
    "            risk_count += risk_text.count(term)\n",
    "    \n",
    "    # Add to metrics list\n",
    "    company_metrics.append({\n",
    "        'ticker': ticker,\n",
    "        'company_name': most_recent.get('company_name', ticker),\n",
    "        'filing_year': most_recent.get('filing_year', ''),\n",
    "        'risk_section_length': risk_length,\n",
    "        'mda_section_length': mda_length,\n",
    "        'fin_section_length': fin_length,\n",
    "        'risk_term_count': risk_count,\n",
    "        'risk_density': risk_count / risk_length * 1000 if risk_length > 0 else 0  # Risk terms per 1000 chars\n",
    "    })\n",
    "\n",
    "# Create DataFrame\n",
    "company_metrics_df = pd.DataFrame(company_metrics)\n",
    "company_metrics_df.head()"
   ]
  },
  {
   "cell_type": "code",
   "execution_count": null,
   "metadata": {},
   "outputs": [],
   "source": [
    "# Plot comparative section lengths\n",
    "fig, ax = plot_comparative_metrics(\n",
    "    company_metrics_df,\n",
    "    metrics=['risk_section_length', 'mda_section_length', 'fin_section_length'],\n",
    "    company_column='ticker',\n",
    "    title='Comparative Section Lengths by Company'\n",
    ")\n",
    "plt.show()"
   ]
  },
  {
   "cell_type": "code",
   "execution_count": null,
   "metadata": {},
   "outputs": [],
   "source": [
    "# Plot risk density\n",
    "plt.figure(figsize=(12, 6))\n",
    "sns.barplot(x='ticker', y='risk_density', data=company_metrics_df)\n",
    "plt.title('Risk Term Density by Company', fontsize=16, fontweight='bold')\n",
    "plt.xlabel('Company', fontsize=14)\n",
    "plt.ylabel('Risk Terms per 1000 Characters', fontsize=14)\n",
    "plt.grid(axis='y', linestyle='--', alpha=0.7)\n",
    "plt.xticks(rotation=45, ha='right')\n",
    "plt.tight_layout()\n",
    "plt.show()"
   ]
  },
  {
   "cell_type": "markdown",
   "metadata": {},
   "source": [
    "## Temporal Analysis\n",
    "\n",
    "Let's analyze how the filings have changed over time for a specific company."
   ]
  },
  {
   "cell_type": "code",
   "execution_count": null,
   "metadata": {},
   "outputs": [],
   "source": [
    "# Select a company with multiple years of filings\n",
    "target_company = processed_filings['ticker'].value_counts().index[0]  # Company with most filings\n",
    "company_filings = processed_filings[processed_filings['ticker'] == target_company].copy()\n",
    "\n",
    "# Calculate metrics for each filing\n",
    "company_filings['risk_section_length'] = company_filings['section_item_1a'].str.len()\n",
    "company_filings['mda_section_length'] = company_filings['section_item_7'].str.len()\n",
    "company_filings['fin_section_length'] = company_filings['section_item_8'].str.len()\n",
    "\n",
    "# Sort by filing date\n",
    "company_filings = company_filings.sort_values('filing_date')"
   ]
  },
  {
   "cell_type": "code",
   "execution_count": null,
   "metadata": {},
   "outputs": [],
   "source": [
    "# Plot section lengths over time\n",
    "plt.figure(figsize=(14, 7))\n",
    "\n",
    "# Plot each section\n",
    "plt.plot(\n",
    "    company_filings['filing_date'],\n",
    "    company_filings['risk_section_length'],\n",
    "    marker='o',\n",
    "    linewidth=2,\n",
    "    label='Risk Factors (Item 1A)'\n",
    ")\n",
    "plt.plot(\n",
    "    company_filings['filing_date'],\n",
    "    company_filings['mda_section_length'],\n",
    "    marker='o',\n",
    "    linewidth=2,\n",
    "    label='MD&A (Item 7)'\n",
    ")\n",
    "plt.plot(\n",
    "    company_filings['filing_date'],\n",
    "    company_filings['fin_section_length'],\n",
    "    marker='o',\n",
    "    linewidth=2,\n",
    "    label='Financial Statements (Item 8)'\n",
    ")\n",
    "\n",
    "# Set labels and title\n",
    "plt.title(f'Section Lengths Over Time - {target_company}', fontsize=16, fontweight='bold')\n",
    "plt.xlabel('Filing Date', fontsize=14)\n",
    "plt.ylabel('Section Length (characters)', fontsize=14)\n",
    "plt.legend(fontsize=12)\n",
    "plt.grid(True, linestyle='--', alpha=0.7)\n",
    "\n",
    "# Format x-axis with years\n",
    "plt.gca().xaxis.set_major_locator(mdates.YearLocator())\n",
    "plt.gca().xaxis.set_major_formatter(mdates.DateFormatter('%Y'))\n",
    "plt.xticks(rotation=45)\n",
    "\n",
    "plt.tight_layout()\n",
    "plt.show()"
   ]
  },
  {
   "cell_type": "markdown",
   "metadata": {},
   "source": [
    "## Next Steps\n",
    "\n",
    "In the next notebooks, we'll perform more in-depth analyses:\n",
    "\n",
    "1. Text analysis using NLP techniques\n",
    "2. Financial analysis extracting key metrics\n",
    "3. Sentiment analysis for MD&A sections\n",
    "4. Creating interactive visualizations and dashboards"
   ]
  }
 ],
 "metadata": {
  "kernelspec": {
   "display_name": "Python 3",
   "language": "python",
   "name": "python3"
  },
  "language_info": {
   "codemirror_mode": {
    "name": "ipython",
    "version": 3
   },
   "file_extension": ".py",
   "mimetype": "text/x-python",
   "name": "python",
   "nbconvert_exporter": "python",
   "pygments_lexer": "ipython3",
   "version": "3.9.0"
  }
 },
 "nbformat": 4,
 "nbformat_minor": 4
}